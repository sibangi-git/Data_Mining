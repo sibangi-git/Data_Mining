{
 "cells": [
  {
   "cell_type": "markdown",
   "id": "edb5e6f2",
   "metadata": {},
   "source": [
    "### Assignment 1 - Data Exploration"
   ]
  },
  {
   "cell_type": "code",
   "execution_count": 73,
   "id": "6fc2bb24",
   "metadata": {},
   "outputs": [],
   "source": [
    "# This code appears in every demonstration Notebook.\n",
    "# By default, when you run each cell, only the last output of the codes will show.\n",
    "# This code makes all outputs of a cell show.\n",
    "from IPython.core.interactiveshell import InteractiveShell\n",
    "InteractiveShell.ast_node_interactivity = \"all\""
   ]
  },
  {
   "cell_type": "markdown",
   "id": "1f8c655a",
   "metadata": {},
   "source": [
    "We will explore a dataset about used cars."
   ]
  },
  {
   "cell_type": "markdown",
   "id": "8b1d070f",
   "metadata": {},
   "source": [
    "1. Import the necessary packages."
   ]
  },
  {
   "cell_type": "code",
   "execution_count": 74,
   "id": "ec5fab6a",
   "metadata": {},
   "outputs": [],
   "source": [
    "import pandas as pd\n",
    "import numpy as np\n",
    "import matplotlib as plt\n",
    "import matplotlib.pyplot as plt\n",
    "import seaborn as sns"
   ]
  },
  {
   "cell_type": "markdown",
   "id": "4c043205",
   "metadata": {},
   "source": [
    "2. Read in the dataset, 'ToyotaCorolla.csv'.\n",
    "The data set includes sale prices and vehicle characteristics of 1436 used Toyota Corollas. The variables are defined as follows:<br>\n",
    "a.\tPrice: sale price in Euros<br>\n",
    "b.\tAge: age in months<br>\n",
    "c.\tKM: accumulated kilometers on odometer<br>\n",
    "d.\tFuel_type: Fuel type (petrol, diesel, CNG)<br>\n",
    "e.\tHP: horsepower<br>\n",
    "f.\tMetColor: Metallic color (yes=1, no=0)<br>\n",
    "g.\tAutomatic: Automatic gear shift (yes=1, no=0)<br>\n",
    "h.\tDoors: Number of doors<br>\n"
   ]
  },
  {
   "cell_type": "code",
   "execution_count": 75,
   "id": "ce825a29",
   "metadata": {},
   "outputs": [
    {
     "data": {
      "text/html": [
       "<div>\n",
       "<style scoped>\n",
       "    .dataframe tbody tr th:only-of-type {\n",
       "        vertical-align: middle;\n",
       "    }\n",
       "\n",
       "    .dataframe tbody tr th {\n",
       "        vertical-align: top;\n",
       "    }\n",
       "\n",
       "    .dataframe thead th {\n",
       "        text-align: right;\n",
       "    }\n",
       "</style>\n",
       "<table border=\"1\" class=\"dataframe\">\n",
       "  <thead>\n",
       "    <tr style=\"text-align: right;\">\n",
       "      <th></th>\n",
       "      <th>Price</th>\n",
       "      <th>Age</th>\n",
       "      <th>KM</th>\n",
       "      <th>Fuel_Type</th>\n",
       "      <th>HP</th>\n",
       "      <th>MetColor</th>\n",
       "      <th>Automatic</th>\n",
       "      <th>Doors</th>\n",
       "    </tr>\n",
       "  </thead>\n",
       "  <tbody>\n",
       "    <tr>\n",
       "      <th>0</th>\n",
       "      <td>13500</td>\n",
       "      <td>23</td>\n",
       "      <td>46986</td>\n",
       "      <td>Diesel</td>\n",
       "      <td>90</td>\n",
       "      <td>1</td>\n",
       "      <td>0</td>\n",
       "      <td>3</td>\n",
       "    </tr>\n",
       "    <tr>\n",
       "      <th>1</th>\n",
       "      <td>13750</td>\n",
       "      <td>23</td>\n",
       "      <td>72937</td>\n",
       "      <td>Diesel</td>\n",
       "      <td>90</td>\n",
       "      <td>1</td>\n",
       "      <td>0</td>\n",
       "      <td>3</td>\n",
       "    </tr>\n",
       "    <tr>\n",
       "      <th>2</th>\n",
       "      <td>13950</td>\n",
       "      <td>24</td>\n",
       "      <td>41711</td>\n",
       "      <td>Diesel</td>\n",
       "      <td>90</td>\n",
       "      <td>1</td>\n",
       "      <td>0</td>\n",
       "      <td>3</td>\n",
       "    </tr>\n",
       "    <tr>\n",
       "      <th>3</th>\n",
       "      <td>14950</td>\n",
       "      <td>26</td>\n",
       "      <td>48000</td>\n",
       "      <td>Diesel</td>\n",
       "      <td>90</td>\n",
       "      <td>0</td>\n",
       "      <td>0</td>\n",
       "      <td>3</td>\n",
       "    </tr>\n",
       "    <tr>\n",
       "      <th>4</th>\n",
       "      <td>13750</td>\n",
       "      <td>30</td>\n",
       "      <td>38500</td>\n",
       "      <td>Diesel</td>\n",
       "      <td>90</td>\n",
       "      <td>0</td>\n",
       "      <td>0</td>\n",
       "      <td>3</td>\n",
       "    </tr>\n",
       "  </tbody>\n",
       "</table>\n",
       "</div>"
      ],
      "text/plain": [
       "   Price  Age     KM Fuel_Type  HP  MetColor  Automatic  Doors\n",
       "0  13500   23  46986    Diesel  90         1          0      3\n",
       "1  13750   23  72937    Diesel  90         1          0      3\n",
       "2  13950   24  41711    Diesel  90         1          0      3\n",
       "3  14950   26  48000    Diesel  90         0          0      3\n",
       "4  13750   30  38500    Diesel  90         0          0      3"
      ]
     },
     "execution_count": 75,
     "metadata": {},
     "output_type": "execute_result"
    }
   ],
   "source": [
    "df=pd.read_csv('ToyotaCorolla.csv')\n",
    "df.head()"
   ]
  },
  {
   "cell_type": "code",
   "execution_count": 76,
   "id": "493c09bc-6cfa-4d4b-81f7-e6f0e1f03203",
   "metadata": {},
   "outputs": [
    {
     "data": {
      "text/plain": [
       "Index(['Price', 'Age', 'KM', 'Fuel_Type', 'HP', 'MetColor', 'Automatic',\n",
       "       'Doors'],\n",
       "      dtype='object')"
      ]
     },
     "execution_count": 76,
     "metadata": {},
     "output_type": "execute_result"
    }
   ],
   "source": [
    "df.columns"
   ]
  },
  {
   "cell_type": "code",
   "execution_count": 77,
   "id": "1c78c3dc-b2df-48f3-8169-e36d36a8633f",
   "metadata": {},
   "outputs": [
    {
     "data": {
      "text/html": [
       "<div>\n",
       "<style scoped>\n",
       "    .dataframe tbody tr th:only-of-type {\n",
       "        vertical-align: middle;\n",
       "    }\n",
       "\n",
       "    .dataframe tbody tr th {\n",
       "        vertical-align: top;\n",
       "    }\n",
       "\n",
       "    .dataframe thead th {\n",
       "        text-align: right;\n",
       "    }\n",
       "</style>\n",
       "<table border=\"1\" class=\"dataframe\">\n",
       "  <thead>\n",
       "    <tr style=\"text-align: right;\">\n",
       "      <th></th>\n",
       "      <th>Price</th>\n",
       "      <th>Age</th>\n",
       "      <th>KM</th>\n",
       "      <th>HP</th>\n",
       "      <th>MetColor</th>\n",
       "      <th>Automatic</th>\n",
       "      <th>Doors</th>\n",
       "    </tr>\n",
       "  </thead>\n",
       "  <tbody>\n",
       "    <tr>\n",
       "      <th>count</th>\n",
       "      <td>1436.000000</td>\n",
       "      <td>1436.000000</td>\n",
       "      <td>1436.000000</td>\n",
       "      <td>1436.000000</td>\n",
       "      <td>1436.000000</td>\n",
       "      <td>1436.000000</td>\n",
       "      <td>1436.000000</td>\n",
       "    </tr>\n",
       "    <tr>\n",
       "      <th>mean</th>\n",
       "      <td>10730.824513</td>\n",
       "      <td>55.947075</td>\n",
       "      <td>68533.259749</td>\n",
       "      <td>101.502089</td>\n",
       "      <td>0.674791</td>\n",
       "      <td>0.055710</td>\n",
       "      <td>4.033426</td>\n",
       "    </tr>\n",
       "    <tr>\n",
       "      <th>std</th>\n",
       "      <td>3626.964585</td>\n",
       "      <td>18.599988</td>\n",
       "      <td>37506.448872</td>\n",
       "      <td>14.981080</td>\n",
       "      <td>0.468616</td>\n",
       "      <td>0.229441</td>\n",
       "      <td>0.952677</td>\n",
       "    </tr>\n",
       "    <tr>\n",
       "      <th>min</th>\n",
       "      <td>4350.000000</td>\n",
       "      <td>1.000000</td>\n",
       "      <td>1.000000</td>\n",
       "      <td>69.000000</td>\n",
       "      <td>0.000000</td>\n",
       "      <td>0.000000</td>\n",
       "      <td>2.000000</td>\n",
       "    </tr>\n",
       "    <tr>\n",
       "      <th>25%</th>\n",
       "      <td>8450.000000</td>\n",
       "      <td>44.000000</td>\n",
       "      <td>43000.000000</td>\n",
       "      <td>90.000000</td>\n",
       "      <td>0.000000</td>\n",
       "      <td>0.000000</td>\n",
       "      <td>3.000000</td>\n",
       "    </tr>\n",
       "    <tr>\n",
       "      <th>50%</th>\n",
       "      <td>9900.000000</td>\n",
       "      <td>61.000000</td>\n",
       "      <td>63389.500000</td>\n",
       "      <td>110.000000</td>\n",
       "      <td>1.000000</td>\n",
       "      <td>0.000000</td>\n",
       "      <td>4.000000</td>\n",
       "    </tr>\n",
       "    <tr>\n",
       "      <th>75%</th>\n",
       "      <td>11950.000000</td>\n",
       "      <td>70.000000</td>\n",
       "      <td>87020.750000</td>\n",
       "      <td>110.000000</td>\n",
       "      <td>1.000000</td>\n",
       "      <td>0.000000</td>\n",
       "      <td>5.000000</td>\n",
       "    </tr>\n",
       "    <tr>\n",
       "      <th>max</th>\n",
       "      <td>32500.000000</td>\n",
       "      <td>80.000000</td>\n",
       "      <td>243000.000000</td>\n",
       "      <td>192.000000</td>\n",
       "      <td>1.000000</td>\n",
       "      <td>1.000000</td>\n",
       "      <td>5.000000</td>\n",
       "    </tr>\n",
       "  </tbody>\n",
       "</table>\n",
       "</div>"
      ],
      "text/plain": [
       "              Price          Age             KM           HP     MetColor  \\\n",
       "count   1436.000000  1436.000000    1436.000000  1436.000000  1436.000000   \n",
       "mean   10730.824513    55.947075   68533.259749   101.502089     0.674791   \n",
       "std     3626.964585    18.599988   37506.448872    14.981080     0.468616   \n",
       "min     4350.000000     1.000000       1.000000    69.000000     0.000000   \n",
       "25%     8450.000000    44.000000   43000.000000    90.000000     0.000000   \n",
       "50%     9900.000000    61.000000   63389.500000   110.000000     1.000000   \n",
       "75%    11950.000000    70.000000   87020.750000   110.000000     1.000000   \n",
       "max    32500.000000    80.000000  243000.000000   192.000000     1.000000   \n",
       "\n",
       "         Automatic        Doors  \n",
       "count  1436.000000  1436.000000  \n",
       "mean      0.055710     4.033426  \n",
       "std       0.229441     0.952677  \n",
       "min       0.000000     2.000000  \n",
       "25%       0.000000     3.000000  \n",
       "50%       0.000000     4.000000  \n",
       "75%       0.000000     5.000000  \n",
       "max       1.000000     5.000000  "
      ]
     },
     "execution_count": 77,
     "metadata": {},
     "output_type": "execute_result"
    }
   ],
   "source": [
    "df.describe()"
   ]
  },
  {
   "cell_type": "markdown",
   "id": "0b258061",
   "metadata": {},
   "source": [
    "3. Explore the variable 'Price' using statistics (central tendency and variability) and a graph. Describe your findings."
   ]
  },
  {
   "cell_type": "code",
   "execution_count": 78,
   "id": "9845b2f9",
   "metadata": {},
   "outputs": [
    {
     "data": {
      "text/plain": [
       "count     1436.000000\n",
       "mean     10730.824513\n",
       "std       3626.964585\n",
       "min       4350.000000\n",
       "25%       8450.000000\n",
       "50%       9900.000000\n",
       "75%      11950.000000\n",
       "max      32500.000000\n",
       "Name: Price, dtype: float64"
      ]
     },
     "execution_count": 78,
     "metadata": {},
     "output_type": "execute_result"
    }
   ],
   "source": [
    "df['Price'].describe()"
   ]
  },
  {
   "cell_type": "code",
   "execution_count": 79,
   "id": "8ccb118c-08dc-4f34-806a-94dfd0f16e3b",
   "metadata": {},
   "outputs": [
    {
     "data": {
      "text/plain": [
       "<Figure size 800x500 with 0 Axes>"
      ]
     },
     "execution_count": 79,
     "metadata": {},
     "output_type": "execute_result"
    },
    {
     "data": {
      "text/plain": [
       "(array([110., 706., 343., 114.,  75.,  59.,  22.,   4.,   0.,   3.]),\n",
       " array([ 4350.,  7165.,  9980., 12795., 15610., 18425., 21240., 24055.,\n",
       "        26870., 29685., 32500.]),\n",
       " <BarContainer object of 10 artists>)"
      ]
     },
     "execution_count": 79,
     "metadata": {},
     "output_type": "execute_result"
    },
    {
     "data": {
      "text/plain": [
       "Text(0.5, 1.0, 'ToyotaCorolla Prices')"
      ]
     },
     "execution_count": 79,
     "metadata": {},
     "output_type": "execute_result"
    },
    {
     "data": {
      "text/plain": [
       "Text(0.5, 0, 'Price')"
      ]
     },
     "execution_count": 79,
     "metadata": {},
     "output_type": "execute_result"
    },
    {
     "data": {
      "text/plain": [
       "Text(0, 0.5, 'Frequency')"
      ]
     },
     "execution_count": 79,
     "metadata": {},
     "output_type": "execute_result"
    },
    {
     "data": {
      "image/png": "[encoded data removed]",
      "text/plain": [
       "<Figure size 800x500 with 1 Axes>"
      ]
     },
     "metadata": {},
     "output_type": "display_data"
    }
   ],
   "source": [
    "# Plotting the histogram\n",
    "plt.figure(figsize=(8, 5))\n",
    "plt.hist(df['Price'],bins=10)\n",
    "plt.title('ToyotaCorolla Prices', fontsize=14)\n",
    "plt.xlabel('Price', fontsize=12)\n",
    "plt.ylabel('Frequency', fontsize=12)\n",
    "plt.grid(axis='y')\n",
    "plt.show()"
   ]
  },
  {
   "cell_type": "markdown",
   "id": "8fafb2bf-bb56-456c-a3dc-5ee1d7244d6e",
   "metadata": {},
   "source": [
    "- A unimodal distribution, with the majority of prices concentrated between 7500 and 12000.\n",
    "- A noticeable skew to the right as mean > median.\n",
    "- Outliers are visible near 30,000, confirming the presence of extreme values in the dataset."
   ]
  },
  {
   "cell_type": "markdown",
   "id": "c2b91280",
   "metadata": {},
   "source": [
    "4. Explore the variable 'Fuel_type' using statistics and a graph. Describe your findings."
   ]
  },
  {
   "cell_type": "code",
   "execution_count": 80,
   "id": "8c0dc090",
   "metadata": {},
   "outputs": [
    {
     "data": {
      "text/plain": [
       "Fuel_Type\n",
       "Petrol    1264\n",
       "Diesel     155\n",
       "CNG         17\n",
       "Name: count, dtype: int64"
      ]
     },
     "execution_count": 80,
     "metadata": {},
     "output_type": "execute_result"
    },
    {
     "data": {
      "text/plain": [
       "<Axes: xlabel='Fuel_Type'>"
      ]
     },
     "execution_count": 80,
     "metadata": {},
     "output_type": "execute_result"
    },
    {
     "data": {
      "image/png": "[encoded data removed]",
      "text/plain": [
       "<Figure size 640x480 with 1 Axes>"
      ]
     },
     "metadata": {},
     "output_type": "display_data"
    }
   ],
   "source": [
    "df['Fuel_Type'].value_counts()\n",
    "\n",
    "df['Fuel_Type'].value_counts().plot(kind='bar')"
   ]
  },
  {
   "cell_type": "markdown",
   "id": "380f7168-af4a-40f5-9a65-8af9ef7140ce",
   "metadata": {},
   "source": [
    "- The bar plot shows the distribution of different fuel types.\n",
    "- The \"Petrol\" category has a significantly higher count than \"Diesel\" and \"CNG.\"\n",
    "- \"CNG\" has the lowest count of all fuel types."
   ]
  },
  {
   "cell_type": "markdown",
   "id": "3943c631",
   "metadata": {},
   "source": [
    "5. Explore the relationship between variable 'KM' and 'Price' using statistics and a graph. Describe your findings."
   ]
  },
  {
   "cell_type": "code",
   "execution_count": 81,
   "id": "8c668917-1be7-42f6-95b3-74494e93f329",
   "metadata": {},
   "outputs": [
    {
     "data": {
      "text/plain": [
       "count      1436.000000\n",
       "mean      68533.259749\n",
       "std       37506.448872\n",
       "min           1.000000\n",
       "25%       43000.000000\n",
       "50%       63389.500000\n",
       "75%       87020.750000\n",
       "max      243000.000000\n",
       "Name: KM, dtype: float64"
      ]
     },
     "execution_count": 81,
     "metadata": {},
     "output_type": "execute_result"
    },
    {
     "data": {
      "text/plain": [
       "count     1436.000000\n",
       "mean     10730.824513\n",
       "std       3626.964585\n",
       "min       4350.000000\n",
       "25%       8450.000000\n",
       "50%       9900.000000\n",
       "75%      11950.000000\n",
       "max      32500.000000\n",
       "Name: Price, dtype: float64"
      ]
     },
     "execution_count": 81,
     "metadata": {},
     "output_type": "execute_result"
    }
   ],
   "source": [
    "df['KM'].describe()\n",
    "df['Price'].describe()"
   ]
  },
  {
   "cell_type": "code",
   "execution_count": 82,
   "id": "7a1e1d15",
   "metadata": {},
   "outputs": [
    {
     "data": {
      "text/plain": [
       "<Axes: xlabel='KM', ylabel='Price'>"
      ]
     },
     "execution_count": 82,
     "metadata": {},
     "output_type": "execute_result"
    },
    {
     "data": {
      "text/plain": [
       "np.float64(-0.5699601645337193)"
      ]
     },
     "execution_count": 82,
     "metadata": {},
     "output_type": "execute_result"
    },
    {
     "data": {
      "image/png": "[encoded data removed]",
      "text/plain": [
       "<Figure size 640x480 with 1 Axes>"
      ]
     },
     "metadata": {},
     "output_type": "display_data"
    }
   ],
   "source": [
    "df.plot.scatter(x='KM', y='Price')\n",
    "df['KM'].corr(df['Price'])"
   ]
  },
  {
   "cell_type": "markdown",
   "id": "ea1ffe37-c228-49af-9d80-272954c53585",
   "metadata": {},
   "source": [
    "- Mean of price is 3 times its standard deviation\n",
    "- The scatter plot visually shows a general downward trend. This indicates that as the \"KM\" increases, the \"Price\" tends to decrease. This suggests a negative relationship between the variables.\n",
    "- There seems to be a cluster of data points with higher prices mostly concentrated at lower KM values."
   ]
  },
  {
   "cell_type": "markdown",
   "id": "dbd07efa",
   "metadata": {},
   "source": [
    "6. Explore the relationship between variable 'Automatic' and 'Price' using a graph. Describe your findings."
   ]
  },
  {
   "cell_type": "code",
   "execution_count": 83,
   "id": "1ab0bdc7",
   "metadata": {},
   "outputs": [
    {
     "data": {
      "text/plain": [
       "count    1436.000000\n",
       "mean        0.055710\n",
       "std         0.229441\n",
       "min         0.000000\n",
       "25%         0.000000\n",
       "50%         0.000000\n",
       "75%         0.000000\n",
       "max         1.000000\n",
       "Name: Automatic, dtype: float64"
      ]
     },
     "execution_count": 83,
     "metadata": {},
     "output_type": "execute_result"
    },
    {
     "data": {
      "text/plain": [
       "count     1436.000000\n",
       "mean     10730.824513\n",
       "std       3626.964585\n",
       "min       4350.000000\n",
       "25%       8450.000000\n",
       "50%       9900.000000\n",
       "75%      11950.000000\n",
       "max      32500.000000\n",
       "Name: Price, dtype: float64"
      ]
     },
     "execution_count": 83,
     "metadata": {},
     "output_type": "execute_result"
    }
   ],
   "source": [
    "df['Automatic'].describe()\n",
    "df['Price'].describe()"
   ]
  },
  {
   "cell_type": "code",
   "execution_count": 86,
   "id": "4f598793-76bc-46ce-8fee-0788d5442e4d",
   "metadata": {},
   "outputs": [
    {
     "data": {
      "text/plain": [
       "<Axes: xlabel='Automatic', ylabel='Price'>"
      ]
     },
     "execution_count": 86,
     "metadata": {},
     "output_type": "execute_result"
    },
    {
     "data": {
      "text/plain": [
       "Text(0, 0.5, 'Price')"
      ]
     },
     "execution_count": 86,
     "metadata": {},
     "output_type": "execute_result"
    },
    {
     "data": {
      "text/plain": [
       "Text(0.5, 1.0, 'Relation between variable Automatic and Price')"
      ]
     },
     "execution_count": 86,
     "metadata": {},
     "output_type": "execute_result"
    },
    {
     "data": {
      "image/png": "[encoded data removed]",
      "text/plain": [
       "<Figure size 640x480 with 1 Axes>"
      ]
     },
     "metadata": {},
     "output_type": "display_data"
    }
   ],
   "source": [
    "sns.boxplot(x='Automatic',y='Price',data=df)\n",
    "plt.xlabel=('Automatic')\n",
    "plt.ylabel('Price')\n",
    "plt.title('Relation between variable Automatic and Price')\n",
    "plt.show()"
   ]
  },
  {
   "cell_type": "markdown",
   "id": "de1e942d-240b-461b-bc5d-90254f00ccd9",
   "metadata": {},
   "source": [
    "- The median price for cars with 'Automatic' = 0 is slightly lower than the median price for cars with 'Automatic' = 1.\n",
    "- There are significantly more outliers for 'Automatic' = 0 than for 'Automatic' = 1."
   ]
  },
  {
   "cell_type": "markdown",
   "id": "389364c8",
   "metadata": {},
   "source": [
    "7. Check the number of unique values of 'Doors'. How many of them? Think about the measurement level of “Doors”. What would you do with this variable?"
   ]
  },
  {
   "cell_type": "code",
   "execution_count": 87,
   "id": "5bc970e8",
   "metadata": {},
   "outputs": [
    {
     "data": {
      "text/plain": [
       "array([3, 5, 4, 2])"
      ]
     },
     "execution_count": 87,
     "metadata": {},
     "output_type": "execute_result"
    },
    {
     "data": {
      "text/plain": [
       "Doors\n",
       "5    674\n",
       "3    622\n",
       "4    138\n",
       "2      2\n",
       "Name: count, dtype: int64"
      ]
     },
     "execution_count": 87,
     "metadata": {},
     "output_type": "execute_result"
    },
    {
     "data": {
      "text/plain": [
       "<Axes: xlabel='Doors'>"
      ]
     },
     "execution_count": 87,
     "metadata": {},
     "output_type": "execute_result"
    },
    {
     "data": {
      "image/png": "[encoded data removed]",
      "text/plain": [
       "<Figure size 640x480 with 1 Axes>"
      ]
     },
     "metadata": {},
     "output_type": "display_data"
    }
   ],
   "source": [
    "df['Doors'].unique()\n",
    "df['Doors'].value_counts()\n",
    "df['Doors'].value_counts().plot(kind='bar')"
   ]
  },
  {
   "cell_type": "markdown",
   "id": "43939ee8-c758-4e80-9321-5c879d17182b",
   "metadata": {},
   "source": [
    "- There are 4 unique values for the \"Doors\" variable.\n",
    "- Category 5 and 3 have higher number of counts. Category 4 has lower number of counts. Category 2 has the lowest number of counts and is barely visible."
   ]
  },
  {
   "cell_type": "code",
   "execution_count": null,
   "id": "dc1b0c8f-f348-4120-a47d-06298f3b979d",
   "metadata": {},
   "outputs": [],
   "source": []
  }
 ],
 "metadata": {
  "kernelspec": {
   "display_name": "Python 3 (ipykernel)",
   "language": "python",
   "name": "python3"
  },
  "language_info": {
   "codemirror_mode": {
    "name": "ipython",
    "version": 3
   },
   "file_extension": ".py",
   "mimetype": "text/x-python",
   "name": "python",
   "nbconvert_exporter": "python",
   "pygments_lexer": "ipython3",
   "version": "3.12.3"
  }
 },
 "nbformat": 4,
 "nbformat_minor": 5
}
