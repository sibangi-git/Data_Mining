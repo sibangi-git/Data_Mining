{
 "cells": [
  {
   "cell_type": "markdown",
   "id": "edb5e6f2",
   "metadata": {},
   "source": [
    "### Week 2 Data Exploration"
   ]
  },
  {
   "cell_type": "code",
   "execution_count": 1,
   "id": "6fc2bb24",
   "metadata": {},
   "outputs": [],
   "source": [
    "# This code appears in every demonstration Notebook.\n",
    "# By default, when you run each cell, only the last output of the codes will show.\n",
    "# This code makes all outputs of a cell show.\n",
    "from IPython.core.interactiveshell import InteractiveShell\n",
    "InteractiveShell.ast_node_interactivity = \"all\""
   ]
  },
  {
   "cell_type": "markdown",
   "id": "1f8c655a",
   "metadata": {},
   "source": [
    "We will explore the user and order data from JD.com."
   ]
  },
  {
   "cell_type": "markdown",
   "id": "8b1d070f",
   "metadata": {},
   "source": [
    "1. We import the necessary packages."
   ]
  },
  {
   "cell_type": "code",
   "execution_count": 2,
   "id": "ec5fab6a",
   "metadata": {},
   "outputs": [],
   "source": [
    "import pandas as pd"
   ]
  },
  {
   "cell_type": "markdown",
   "id": "4c043205",
   "metadata": {},
   "source": [
    "2. We read in the datasets."
   ]
  },
  {
   "cell_type": "code",
   "execution_count": 3,
   "id": "ce825a29",
   "metadata": {},
   "outputs": [],
   "source": [
    "order=pd.read_csv('JD_order_data.csv')\n",
    "user=pd.read_csv('JD_user_data.csv')"
   ]
  },
  {
   "cell_type": "markdown",
   "id": "0b258061",
   "metadata": {},
   "source": [
    "3. Take a look at the data"
   ]
  },
  {
   "cell_type": "code",
   "execution_count": 4,
   "id": "2229862f",
   "metadata": {
    "scrolled": true
   },
   "outputs": [
    {
     "data": {
      "text/html": [
       "<div>\n",
       "<style scoped>\n",
       "    .dataframe tbody tr th:only-of-type {\n",
       "        vertical-align: middle;\n",
       "    }\n",
       "\n",
       "    .dataframe tbody tr th {\n",
       "        vertical-align: top;\n",
       "    }\n",
       "\n",
       "    .dataframe thead th {\n",
       "        text-align: right;\n",
       "    }\n",
       "</style>\n",
       "<table border=\"1\" class=\"dataframe\">\n",
       "  <thead>\n",
       "    <tr style=\"text-align: right;\">\n",
       "      <th></th>\n",
       "      <th>order_ID</th>\n",
       "      <th>user_ID</th>\n",
       "      <th>sku_ID</th>\n",
       "      <th>order_date</th>\n",
       "      <th>order_time</th>\n",
       "      <th>quantity</th>\n",
       "      <th>type</th>\n",
       "      <th>promise</th>\n",
       "      <th>original_unit_price</th>\n",
       "      <th>final_unit_price</th>\n",
       "      <th>direct_discount_per_unit</th>\n",
       "      <th>quantity_discount_per_unit</th>\n",
       "      <th>bundle_discount_per_unit</th>\n",
       "      <th>coupon_discount_per_unit</th>\n",
       "      <th>gift_item</th>\n",
       "      <th>dc_ori</th>\n",
       "      <th>dc_des</th>\n",
       "    </tr>\n",
       "  </thead>\n",
       "  <tbody>\n",
       "    <tr>\n",
       "      <th>0</th>\n",
       "      <td>d0cf5cc6db</td>\n",
       "      <td>0abe9ef2ce</td>\n",
       "      <td>581d5b54c1</td>\n",
       "      <td>2018-03-01</td>\n",
       "      <td>2018-03-01 17:14:25.0</td>\n",
       "      <td>1</td>\n",
       "      <td>2</td>\n",
       "      <td>-</td>\n",
       "      <td>89.0</td>\n",
       "      <td>79.0</td>\n",
       "      <td>0.0</td>\n",
       "      <td>10.0</td>\n",
       "      <td>0.0</td>\n",
       "      <td>0.0</td>\n",
       "      <td>0</td>\n",
       "      <td>4</td>\n",
       "      <td>28</td>\n",
       "    </tr>\n",
       "    <tr>\n",
       "      <th>1</th>\n",
       "      <td>7444318d01</td>\n",
       "      <td>33a9e56257</td>\n",
       "      <td>067b673f2b</td>\n",
       "      <td>2018-03-01</td>\n",
       "      <td>2018-03-01 11:10:40.0</td>\n",
       "      <td>1</td>\n",
       "      <td>1</td>\n",
       "      <td>2</td>\n",
       "      <td>99.9</td>\n",
       "      <td>53.9</td>\n",
       "      <td>5.0</td>\n",
       "      <td>41.0</td>\n",
       "      <td>0.0</td>\n",
       "      <td>0.0</td>\n",
       "      <td>0</td>\n",
       "      <td>28</td>\n",
       "      <td>28</td>\n",
       "    </tr>\n",
       "    <tr>\n",
       "      <th>2</th>\n",
       "      <td>f973b01694</td>\n",
       "      <td>4ea3cf408f</td>\n",
       "      <td>623d0a582a</td>\n",
       "      <td>2018-03-01</td>\n",
       "      <td>2018-03-01 09:13:26.0</td>\n",
       "      <td>1</td>\n",
       "      <td>1</td>\n",
       "      <td>2</td>\n",
       "      <td>78.0</td>\n",
       "      <td>58.5</td>\n",
       "      <td>19.5</td>\n",
       "      <td>0.0</td>\n",
       "      <td>0.0</td>\n",
       "      <td>0.0</td>\n",
       "      <td>0</td>\n",
       "      <td>28</td>\n",
       "      <td>28</td>\n",
       "    </tr>\n",
       "    <tr>\n",
       "      <th>3</th>\n",
       "      <td>8c1cec8d4b</td>\n",
       "      <td>b87cb736cb</td>\n",
       "      <td>fc5289b139</td>\n",
       "      <td>2018-03-01</td>\n",
       "      <td>2018-03-01 21:29:50.0</td>\n",
       "      <td>1</td>\n",
       "      <td>1</td>\n",
       "      <td>2</td>\n",
       "      <td>61.0</td>\n",
       "      <td>35.0</td>\n",
       "      <td>0.0</td>\n",
       "      <td>26.0</td>\n",
       "      <td>0.0</td>\n",
       "      <td>0.0</td>\n",
       "      <td>0</td>\n",
       "      <td>4</td>\n",
       "      <td>28</td>\n",
       "    </tr>\n",
       "    <tr>\n",
       "      <th>4</th>\n",
       "      <td>d43a33c38a</td>\n",
       "      <td>4829223b6f</td>\n",
       "      <td>623d0a582a</td>\n",
       "      <td>2018-03-01</td>\n",
       "      <td>2018-03-01 19:13:37.0</td>\n",
       "      <td>1</td>\n",
       "      <td>1</td>\n",
       "      <td>1</td>\n",
       "      <td>78.0</td>\n",
       "      <td>53.0</td>\n",
       "      <td>19.0</td>\n",
       "      <td>0.0</td>\n",
       "      <td>0.0</td>\n",
       "      <td>6.0</td>\n",
       "      <td>0</td>\n",
       "      <td>3</td>\n",
       "      <td>16</td>\n",
       "    </tr>\n",
       "  </tbody>\n",
       "</table>\n",
       "</div>"
      ],
      "text/plain": [
       "     order_ID     user_ID      sku_ID  order_date             order_time  \\\n",
       "0  d0cf5cc6db  0abe9ef2ce  581d5b54c1  2018-03-01  2018-03-01 17:14:25.0   \n",
       "1  7444318d01  33a9e56257  067b673f2b  2018-03-01  2018-03-01 11:10:40.0   \n",
       "2  f973b01694  4ea3cf408f  623d0a582a  2018-03-01  2018-03-01 09:13:26.0   \n",
       "3  8c1cec8d4b  b87cb736cb  fc5289b139  2018-03-01  2018-03-01 21:29:50.0   \n",
       "4  d43a33c38a  4829223b6f  623d0a582a  2018-03-01  2018-03-01 19:13:37.0   \n",
       "\n",
       "   quantity  type promise  original_unit_price  final_unit_price  \\\n",
       "0         1     2       -                 89.0              79.0   \n",
       "1         1     1       2                 99.9              53.9   \n",
       "2         1     1       2                 78.0              58.5   \n",
       "3         1     1       2                 61.0              35.0   \n",
       "4         1     1       1                 78.0              53.0   \n",
       "\n",
       "   direct_discount_per_unit  quantity_discount_per_unit  \\\n",
       "0                       0.0                        10.0   \n",
       "1                       5.0                        41.0   \n",
       "2                      19.5                         0.0   \n",
       "3                       0.0                        26.0   \n",
       "4                      19.0                         0.0   \n",
       "\n",
       "   bundle_discount_per_unit  coupon_discount_per_unit  gift_item  dc_ori  \\\n",
       "0                       0.0                       0.0          0       4   \n",
       "1                       0.0                       0.0          0      28   \n",
       "2                       0.0                       0.0          0      28   \n",
       "3                       0.0                       0.0          0       4   \n",
       "4                       0.0                       6.0          0       3   \n",
       "\n",
       "   dc_des  \n",
       "0      28  \n",
       "1      28  \n",
       "2      28  \n",
       "3      28  \n",
       "4      16  "
      ]
     },
     "execution_count": 4,
     "metadata": {},
     "output_type": "execute_result"
    }
   ],
   "source": [
    "# The head() displays a sample of the dataset\n",
    "order.head(5)\n",
    "# The number argument specifies the number of rows to show"
   ]
  },
  {
   "cell_type": "markdown",
   "id": "c2b91280",
   "metadata": {},
   "source": [
    "4. Explore a single categorical variable"
   ]
  },
  {
   "cell_type": "code",
   "execution_count": 5,
   "id": "4c500677",
   "metadata": {},
   "outputs": [
    {
     "data": {
      "text/plain": [
       "Index(['order_ID', 'user_ID', 'sku_ID', 'order_date', 'order_time', 'quantity',\n",
       "       'type', 'promise', 'original_unit_price', 'final_unit_price',\n",
       "       'direct_discount_per_unit', 'quantity_discount_per_unit',\n",
       "       'bundle_discount_per_unit', 'coupon_discount_per_unit', 'gift_item',\n",
       "       'dc_ori', 'dc_des'],\n",
       "      dtype='object')"
      ]
     },
     "execution_count": 5,
     "metadata": {},
     "output_type": "execute_result"
    }
   ],
   "source": [
    "# Displays the variables of the dataframe\n",
    "order.columns"
   ]
  },
  {
   "cell_type": "code",
   "execution_count": 6,
   "id": "f85d89c0",
   "metadata": {},
   "outputs": [
    {
     "data": {
      "text/plain": [
       "0    F\n",
       "1    U\n",
       "2    F\n",
       "3    M\n",
       "4    U\n",
       "Name: gender, dtype: object"
      ]
     },
     "execution_count": 6,
     "metadata": {},
     "output_type": "execute_result"
    },
    {
     "data": {
      "text/plain": [
       "gender\n",
       "F    292897\n",
       "M    107084\n",
       "U     57317\n",
       "Name: count, dtype: int64"
      ]
     },
     "execution_count": 6,
     "metadata": {},
     "output_type": "execute_result"
    }
   ],
   "source": [
    "# Let's explore the gender variable in users\n",
    "user['gender'].head()\n",
    "# value_counts() gives the frequency distribution\n",
    "user['gender'].value_counts()"
   ]
  },
  {
   "cell_type": "code",
   "execution_count": 7,
   "id": "964ce0e4",
   "metadata": {},
   "outputs": [
    {
     "data": {
      "text/plain": [
       "<Axes: xlabel='gender'>"
      ]
     },
     "execution_count": 7,
     "metadata": {},
     "output_type": "execute_result"
    },
    {
     "data": {
      "image/png": "[encoded data removed]",
      "text/plain": [
       "<Figure size 640x480 with 1 Axes>"
      ]
     },
     "metadata": {},
     "output_type": "display_data"
    }
   ],
   "source": [
    "# Make a bar chart for the frequency distribution\n",
    "user['gender'].value_counts().plot(kind='bar')"
   ]
  },
  {
   "cell_type": "code",
   "execution_count": 8,
   "id": "37f0fdd0",
   "metadata": {},
   "outputs": [
    {
     "data": {
      "text/plain": [
       "0    26-35\n",
       "1        U\n",
       "2     >=56\n",
       "3    26-35\n",
       "4        U\n",
       "Name: age, dtype: object"
      ]
     },
     "execution_count": 8,
     "metadata": {},
     "output_type": "execute_result"
    }
   ],
   "source": [
    "# Exercise: explore variable 'age'\n",
    "user['age'].head()"
   ]
  },
  {
   "cell_type": "code",
   "execution_count": 9,
   "id": "1ee9d865",
   "metadata": {},
   "outputs": [
    {
     "data": {
      "text/plain": [
       "age\n",
       "26-35    183239\n",
       "16-25    103306\n",
       "36-45     81076\n",
       "U         56457\n",
       "46-55     18679\n",
       ">=56      14517\n",
       "<=15         24\n",
       "Name: count, dtype: int64"
      ]
     },
     "execution_count": 9,
     "metadata": {},
     "output_type": "execute_result"
    }
   ],
   "source": [
    "user['age'].value_counts()"
   ]
  },
  {
   "cell_type": "code",
   "execution_count": 10,
   "id": "7366da00-2979-498e-af95-17c8d4cb2515",
   "metadata": {},
   "outputs": [
    {
     "data": {
      "text/plain": [
       "<Axes: xlabel='age'>"
      ]
     },
     "execution_count": 10,
     "metadata": {},
     "output_type": "execute_result"
    },
    {
     "data": {
      "image/png": "[encoded data removed]",
      "text/plain": [
       "<Figure size 640x480 with 1 Axes>"
      ]
     },
     "metadata": {},
     "output_type": "display_data"
    }
   ],
   "source": [
    "user['age'].value_counts().plot(kind='bar')"
   ]
  },
  {
   "cell_type": "markdown",
   "id": "832e29e4",
   "metadata": {},
   "source": [
    "5. Explore a single inteval variable"
   ]
  },
  {
   "cell_type": "code",
   "execution_count": 11,
   "id": "e99d5f50",
   "metadata": {},
   "outputs": [
    {
     "data": {
      "text/plain": [
       "count    549989.000000\n",
       "mean        102.813542\n",
       "std          95.035563\n",
       "min           0.000000\n",
       "25%          59.000000\n",
       "50%          79.000000\n",
       "75%         139.000000\n",
       "max       12158.000000\n",
       "Name: original_unit_price, dtype: float64"
      ]
     },
     "execution_count": 11,
     "metadata": {},
     "output_type": "execute_result"
    }
   ],
   "source": [
    "order['original_unit_price'].describe()"
   ]
  },
  {
   "cell_type": "code",
   "execution_count": 12,
   "id": "8513ee29-d7d6-4f61-8370-53c952ffeb57",
   "metadata": {},
   "outputs": [],
   "source": [
    "import numpy as np\n",
    "\n",
    "import matplotlib.pyplot as plt"
   ]
  },
  {
   "cell_type": "code",
   "execution_count": 13,
   "id": "cf2293f1",
   "metadata": {},
   "outputs": [
    {
     "data": {
      "text/plain": [
       "np.float64(336.0)"
      ]
     },
     "execution_count": 13,
     "metadata": {},
     "output_type": "execute_result"
    }
   ],
   "source": [
    "# Find quantile or percentile\n",
    "np.quantile(order['original_unit_price'],0.99)"
   ]
  },
  {
   "cell_type": "code",
   "execution_count": 14,
   "id": "0aa1e09f",
   "metadata": {},
   "outputs": [
    {
     "data": {
      "text/plain": [
       "np.float64(12158.0)"
      ]
     },
     "execution_count": 14,
     "metadata": {},
     "output_type": "execute_result"
    }
   ],
   "source": [
    "# Find the records with the maximum price\n",
    "# The max price is an outlier\n",
    "order['original_unit_price'].max()\n",
    "# We use the comparison to slice the original dataset"
   ]
  },
  {
   "cell_type": "code",
   "execution_count": 15,
   "id": "8f2d4cb2",
   "metadata": {
    "scrolled": true
   },
   "outputs": [
    {
     "data": {
      "text/plain": [
       "(array([5.49971e+05, 5.00000e+00, 2.00000e+00, 1.00000e+00, 2.00000e+00,\n",
       "        2.00000e+00, 2.00000e+00, 0.00000e+00, 1.00000e+00, 3.00000e+00]),\n",
       " array([    0. ,  1215.8,  2431.6,  3647.4,  4863.2,  6079. ,  7294.8,\n",
       "         8510.6,  9726.4, 10942.2, 12158. ]),\n",
       " <BarContainer object of 10 artists>)"
      ]
     },
     "execution_count": 15,
     "metadata": {},
     "output_type": "execute_result"
    },
    {
     "data": {
      "image/png": "[encoded data removed]",
      "text/plain": [
       "<Figure size 640x480 with 1 Axes>"
      ]
     },
     "metadata": {},
     "output_type": "display_data"
    }
   ],
   "source": [
    "# A histogram to explore the distribution of the interval variable\n",
    "# original price\n",
    "plt.hist(order['original_unit_price'])\n",
    "# The results are strongly affected by the maximum value."
   ]
  },
  {
   "cell_type": "code",
   "execution_count": 16,
   "id": "869d1084",
   "metadata": {},
   "outputs": [],
   "source": [
    "# delete the maximum record\n",
    "new = order[order['original_unit_price'] != 1258]"
   ]
  },
  {
   "cell_type": "code",
   "execution_count": null,
   "id": "394ee09f",
   "metadata": {
    "scrolled": true
   },
   "outputs": [
    {
     "data": {
      "text/plain": [
       "(array([[1.58964e+05, 1.53644e+05, 1.55268e+05, 8.21130e+04, 0.00000e+00,\n",
       "         0.00000e+00, 0.00000e+00, 0.00000e+00, 0.00000e+00, 0.00000e+00],\n",
       "        [1.00000e+00, 0.00000e+00, 1.00000e+00, 8.46160e+04, 1.66461e+05,\n",
       "         1.64644e+05, 1.34266e+05, 0.00000e+00, 0.00000e+00, 0.00000e+00],\n",
       "        [0.00000e+00, 0.00000e+00, 0.00000e+00, 0.00000e+00, 0.00000e+00,\n",
       "         0.00000e+00, 5.49989e+05, 0.00000e+00, 0.00000e+00, 0.00000e+00],\n",
       "        [0.00000e+00, 0.00000e+00, 0.00000e+00, 0.00000e+00, 0.00000e+00,\n",
       "         0.00000e+00, 5.49989e+05, 0.00000e+00, 0.00000e+00, 0.00000e+00],\n",
       "        [0.00000e+00, 0.00000e+00, 0.00000e+00, 0.00000e+00, 0.00000e+00,\n",
       "         0.00000e+00, 1.91360e+04, 1.82687e+05, 1.70966e+05, 1.77200e+05],\n",
       "        [5.49989e+05, 0.00000e+00, 0.00000e+00, 0.00000e+00, 0.00000e+00,\n",
       "         0.00000e+00, 0.00000e+00, 0.00000e+00, 0.00000e+00, 0.00000e+00],\n",
       "        [5.49989e+05, 0.00000e+00, 0.00000e+00, 0.00000e+00, 0.00000e+00,\n",
       "         0.00000e+00, 0.00000e+00, 0.00000e+00, 0.00000e+00, 0.00000e+00],\n",
       "        [0.00000e+00, 0.00000e+00, 0.00000e+00, 0.00000e+00, 0.00000e+00,\n",
       "         0.00000e+00, 0.00000e+00, 0.00000e+00, 0.00000e+00, 5.49989e+05],\n",
       "        [5.49989e+05, 0.00000e+00, 0.00000e+00, 0.00000e+00, 0.00000e+00,\n",
       "         0.00000e+00, 0.00000e+00, 0.00000e+00, 0.00000e+00, 0.00000e+00],\n",
       "        [5.49989e+05, 0.00000e+00, 0.00000e+00, 0.00000e+00, 0.00000e+00,\n",
       "         0.00000e+00, 0.00000e+00, 0.00000e+00, 0.00000e+00, 0.00000e+00],\n",
       "        [5.49989e+05, 0.00000e+00, 0.00000e+00, 0.00000e+00, 0.00000e+00,\n",
       "         0.00000e+00, 0.00000e+00, 0.00000e+00, 0.00000e+00, 0.00000e+00],\n",
       "        [5.49989e+05, 0.00000e+00, 0.00000e+00, 0.00000e+00, 0.00000e+00,\n",
       "         0.00000e+00, 0.00000e+00, 0.00000e+00, 0.00000e+00, 0.00000e+00],\n",
       "        [5.49989e+05, 0.00000e+00, 0.00000e+00, 0.00000e+00, 0.00000e+00,\n",
       "         0.00000e+00, 0.00000e+00, 0.00000e+00, 0.00000e+00, 0.00000e+00],\n",
       "        [5.49989e+05, 0.00000e+00, 0.00000e+00, 0.00000e+00, 0.00000e+00,\n",
       "         0.00000e+00, 0.00000e+00, 0.00000e+00, 0.00000e+00, 0.00000e+00],\n",
       "        [5.49989e+05, 0.00000e+00, 0.00000e+00, 0.00000e+00, 0.00000e+00,\n",
       "         0.00000e+00, 0.00000e+00, 0.00000e+00, 0.00000e+00, 0.00000e+00],\n",
       "        [5.49989e+05, 0.00000e+00, 0.00000e+00, 0.00000e+00, 0.00000e+00,\n",
       "         0.00000e+00, 0.00000e+00, 0.00000e+00, 0.00000e+00, 0.00000e+00],\n",
       "        [5.49989e+05, 0.00000e+00, 0.00000e+00, 0.00000e+00, 0.00000e+00,\n",
       "         0.00000e+00, 0.00000e+00, 0.00000e+00, 0.00000e+00, 0.00000e+00]]),\n",
       " array([-3.2000000e+01,  1.3742790e+05,  2.7488780e+05,  4.1234770e+05,\n",
       "         5.4980760e+05,  6.8726750e+05,  8.2472740e+05,  9.6218730e+05,\n",
       "         1.0996472e+06,  1.2371071e+06,  1.3745670e+06]),\n",
       " <a list of 17 BarContainer objects>)"
      ]
     },
     "execution_count": 17,
     "metadata": {},
     "output_type": "execute_result"
    }
   ],
   "source": [
    "# The histogram again\n",
    "plt.hist(new)"
   ]
  },
  {
   "cell_type": "code",
   "execution_count": null,
   "id": "9efea411",
   "metadata": {},
   "outputs": [],
   "source": [
    "# Delete the outliers using slicing\n"
   ]
  },
  {
   "cell_type": "code",
   "execution_count": null,
   "id": "a034ed1b",
   "metadata": {},
   "outputs": [],
   "source": []
  },
  {
   "cell_type": "markdown",
   "id": "635b0d5d",
   "metadata": {},
   "source": [
    "6. Explore the relationship between two interval variables"
   ]
  },
  {
   "cell_type": "code",
   "execution_count": null,
   "id": "fb40f683",
   "metadata": {},
   "outputs": [],
   "source": []
  },
  {
   "cell_type": "code",
   "execution_count": null,
   "id": "6f09dec4",
   "metadata": {},
   "outputs": [],
   "source": [
    "# Make a scatterplot to explore the relationship between original and\n",
    "# final price\n"
   ]
  },
  {
   "cell_type": "code",
   "execution_count": null,
   "id": "23765ba1",
   "metadata": {},
   "outputs": [],
   "source": [
    "# A graph package that is built on matplotlib and asthetically better\n"
   ]
  },
  {
   "cell_type": "code",
   "execution_count": null,
   "id": "a32b9484",
   "metadata": {},
   "outputs": [],
   "source": []
  },
  {
   "cell_type": "markdown",
   "id": "6030b955",
   "metadata": {},
   "source": [
    "7. Explore the relationship between an interval variable and a categorical variable"
   ]
  },
  {
   "cell_type": "code",
   "execution_count": null,
   "id": "e9e955be",
   "metadata": {},
   "outputs": [],
   "source": []
  }
 ],
 "metadata": {
  "kernelspec": {
   "display_name": "Python 3 (ipykernel)",
   "language": "python",
   "name": "python3"
  },
  "language_info": {
   "codemirror_mode": {
    "name": "ipython",
    "version": 3
   },
   "file_extension": ".py",
   "mimetype": "text/x-python",
   "name": "python",
   "nbconvert_exporter": "python",
   "pygments_lexer": "ipython3",
   "version": "3.12.3"
  }
 },
 "nbformat": 4,
 "nbformat_minor": 5
}
