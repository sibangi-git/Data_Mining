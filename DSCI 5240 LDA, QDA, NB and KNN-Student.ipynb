{
 "cells": [
  {
   "cell_type": "markdown",
   "id": "d9d5943f",
   "metadata": {},
   "source": [
    "### LDA, QDA, NB and KNN"
   ]
  },
  {
   "cell_type": "code",
   "execution_count": null,
   "id": "8c377812",
   "metadata": {},
   "outputs": [],
   "source": [
    "# This code appears in every demonstration Notebook.\n",
    "# By default, when you run each cell, only the last output of the codes will show.\n",
    "# This code makes all outputs of a cell show.\n",
    "from IPython.core.interactiveshell import InteractiveShell\n",
    "InteractiveShell.ast_node_interactivity = \"all\""
   ]
  },
  {
   "cell_type": "markdown",
   "id": "c2cdb2bb",
   "metadata": {},
   "source": [
    "1. Import libraries"
   ]
  },
  {
   "cell_type": "code",
   "execution_count": null,
   "id": "1ddcd9db",
   "metadata": {},
   "outputs": [],
   "source": []
  },
  {
   "cell_type": "markdown",
   "id": "b39b8485",
   "metadata": {},
   "source": [
    "2. Import Default dataset"
   ]
  },
  {
   "cell_type": "code",
   "execution_count": null,
   "id": "67356283",
   "metadata": {},
   "outputs": [],
   "source": []
  },
  {
   "cell_type": "markdown",
   "id": "66fe8342",
   "metadata": {},
   "source": [
    "2. Examine different models"
   ]
  },
  {
   "cell_type": "code",
   "execution_count": null,
   "id": "741164e1",
   "metadata": {},
   "outputs": [],
   "source": [
    "# A logistic model with 2 lags"
   ]
  },
  {
   "cell_type": "code",
   "execution_count": null,
   "id": "ea405a86",
   "metadata": {},
   "outputs": [],
   "source": [
    "# Fit LDA, QDA and NB models\n",
    "\n"
   ]
  },
  {
   "cell_type": "code",
   "execution_count": null,
   "id": "54160623",
   "metadata": {},
   "outputs": [],
   "source": [
    "# Fit a KNN model"
   ]
  },
  {
   "cell_type": "code",
   "execution_count": null,
   "id": "23e913a1",
   "metadata": {},
   "outputs": [],
   "source": [
    "# Make predictions for all models\n"
   ]
  },
  {
   "cell_type": "code",
   "execution_count": null,
   "id": "707b831c",
   "metadata": {},
   "outputs": [],
   "source": [
    "# Evaluate performance for all models\n"
   ]
  }
 ],
 "metadata": {
  "kernelspec": {
   "display_name": "Python 3",
   "language": "python",
   "name": "python3"
  },
  "language_info": {
   "codemirror_mode": {
    "name": "ipython",
    "version": 3
   },
   "file_extension": ".py",
   "mimetype": "text/x-python",
   "name": "python",
   "nbconvert_exporter": "python",
   "pygments_lexer": "ipython3",
   "version": "3.8.8"
  }
 },
 "nbformat": 4,
 "nbformat_minor": 5
}
